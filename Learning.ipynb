{
 "cells": [
  {
   "cell_type": "markdown",
   "metadata": {},
   "source": [
    "# Learning Module from www.LearnPython.org"
   ]
  },
  {
   "cell_type": "markdown",
   "metadata": {},
   "source": [
    "## Classes and Functions/Variables"
   ]
  },
  {
   "cell_type": "code",
   "execution_count": 1,
   "metadata": {
    "collapsed": true
   },
   "outputs": [],
   "source": [
    "import numpy as np\n",
    "\n",
    "class MyClass:\n",
    "    variable = \"blah\"\n",
    "    \n",
    "    def function(self):\n",
    "        print \"This is a message inside the class.\"\n",
    "        \n",
    "myobjectx = MyClass()\n"
   ]
  },
  {
   "cell_type": "code",
   "execution_count": 2,
   "metadata": {
    "collapsed": false
   },
   "outputs": [
    {
     "name": "stdout",
     "output_type": "stream",
     "text": [
      "blah\n"
     ]
    }
   ],
   "source": [
    "print myobjectx.variable"
   ]
  },
  {
   "cell_type": "code",
   "execution_count": 3,
   "metadata": {
    "collapsed": true
   },
   "outputs": [],
   "source": [
    "myobjecty = MyClass()\n",
    "myobjecty.variable = \"yackity\""
   ]
  },
  {
   "cell_type": "code",
   "execution_count": 4,
   "metadata": {
    "collapsed": false
   },
   "outputs": [
    {
     "name": "stdout",
     "output_type": "stream",
     "text": [
      "blah\n",
      "yackity\n"
     ]
    }
   ],
   "source": [
    "print myobjectx.variable\n",
    "print myobjecty.variable"
   ]
  },
  {
   "cell_type": "code",
   "execution_count": 5,
   "metadata": {
    "collapsed": false
   },
   "outputs": [
    {
     "name": "stdout",
     "output_type": "stream",
     "text": [
      "This is a message inside the class.\n",
      "This is a message inside the class.\n"
     ]
    }
   ],
   "source": [
    "myobjectx.function()\n",
    "myobjecty.function()"
   ]
  },
  {
   "cell_type": "code",
   "execution_count": 6,
   "metadata": {
    "collapsed": false
   },
   "outputs": [
    {
     "name": "stdout",
     "output_type": "stream",
     "text": [
      "beemer is a silver BMW worth $180000.000\n",
      "benzy is a blue Mercedes-Benz worth $14000.000\n"
     ]
    }
   ],
   "source": [
    "# define the Vehicle class\n",
    "class Vehicle:\n",
    "    name = \"\"\n",
    "    kind = \"car\"\n",
    "    color = \"\"\n",
    "    value = 100.00\n",
    "    def description(self):\n",
    "        desc_str = \"%s is a %s %s worth $%.03f\" % (self.name, self.color, self.kind, self.value)\n",
    "        return desc_str\n",
    "# your code goes here\n",
    "car1 = Vehicle()\n",
    "car1.name  = \"beemer\"\n",
    "car1.kind  = \"BMW\"\n",
    "car1.color = \"silver\"\n",
    "car1.value = 180000\n",
    "\n",
    "car2 = Vehicle()\n",
    "car2.name  = \"benzy\"\n",
    "car2.kind  = \"Mercedes-Benz\"\n",
    "car2.color = \"blue\"\n",
    "car2.value = 14000\n",
    "\n",
    "# test code\n",
    "print car1.description()\n",
    "print car2.description()"
   ]
  },
  {
   "cell_type": "markdown",
   "metadata": {},
   "source": [
    "## Dictionaries"
   ]
  },
  {
   "cell_type": "code",
   "execution_count": 7,
   "metadata": {
    "collapsed": true
   },
   "outputs": [],
   "source": [
    "phonebook = {\n",
    "    \"John\" : 938477566,\n",
    "    \"Jack\" : 938377264,\n",
    "    \"Jill\" : 947662781\n",
    "}"
   ]
  },
  {
   "cell_type": "code",
   "execution_count": 8,
   "metadata": {
    "collapsed": false
   },
   "outputs": [
    {
     "data": {
      "text/plain": [
       "889360260101671046L"
      ]
     },
     "execution_count": 8,
     "metadata": {},
     "output_type": "execute_result"
    }
   ],
   "source": [
    "phonebook[\"John\"] * phonebook[\"Jill\"]"
   ]
  },
  {
   "cell_type": "code",
   "execution_count": 9,
   "metadata": {
    "collapsed": false
   },
   "outputs": [
    {
     "name": "stdout",
     "output_type": "stream",
     "text": [
      "Phone number of Jill is 947662781\n",
      "Phone number of John is 938477566\n",
      "Phone number of Jack is 938377264\n"
     ]
    }
   ],
   "source": [
    "for bing, bong in phonebook.iteritems():\n",
    "    print \"Phone number of %s is %d\" % (bing, bong)"
   ]
  },
  {
   "cell_type": "code",
   "execution_count": 10,
   "metadata": {
    "collapsed": false
   },
   "outputs": [
    {
     "name": "stdout",
     "output_type": "stream",
     "text": [
      "{'Jill': 947662781, 'Jack': 938377264}\n"
     ]
    }
   ],
   "source": [
    "del phonebook[\"John\"]\n",
    "\n",
    "print phonebook"
   ]
  },
  {
   "cell_type": "code",
   "execution_count": 11,
   "metadata": {
    "collapsed": false
   },
   "outputs": [
    {
     "name": "stdout",
     "output_type": "stream",
     "text": [
      "Jake is listed in the phonebook.\n",
      "Jill is not listed in the phonebook.\n"
     ]
    }
   ],
   "source": [
    "phonebook = {\n",
    "    \"John\" : 938477566,\n",
    "    \"Jack\" : 938377264,\n",
    "    \"Jill\" : 947662781\n",
    "}\n",
    "\n",
    "# write your code here\n",
    "phonebook[\"Jake\"] = 938273443\n",
    "phonebook.pop(\"Jill\")\n",
    "\n",
    "# testing code\n",
    "if \"Jake\" in phonebook:\n",
    "    print \"Jake is listed in the phonebook.\"\n",
    "if \"Jill\" not in phonebook:\n",
    "    print \"Jill is not listed in the phonebook.\""
   ]
  },
  {
   "cell_type": "code",
   "execution_count": 12,
   "metadata": {
    "collapsed": false
   },
   "outputs": [
    {
     "name": "stdout",
     "output_type": "stream",
     "text": [
      "{'John': 938477566, 'Jack': 938377264, 'Jake': 938273443}\n"
     ]
    }
   ],
   "source": [
    "print phonebook"
   ]
  },
  {
   "cell_type": "markdown",
   "metadata": {},
   "source": [
    "## Importing Modules"
   ]
  },
  {
   "cell_type": "code",
   "execution_count": 13,
   "metadata": {
    "collapsed": false
   },
   "outputs": [],
   "source": [
    "# import the library\n",
    "import urllib\n",
    "\n",
    "# use it\n",
    "google = urllib.urlopen(\"http://www.google.com\")"
   ]
  },
  {
   "cell_type": "code",
   "execution_count": 14,
   "metadata": {
    "collapsed": false
   },
   "outputs": [
    {
     "name": "stdout",
     "output_type": "stream",
     "text": [
      "<addinfourl at 70990664L whose fp = <socket._fileobject object at 0x00000000043D5408>>\n"
     ]
    }
   ],
   "source": [
    "print google"
   ]
  },
  {
   "cell_type": "code",
   "execution_count": 15,
   "metadata": {
    "collapsed": false
   },
   "outputs": [
    {
     "name": "stdout",
     "output_type": "stream",
     "text": [
      "Help on function urlopen in module urllib:\n",
      "\n",
      "urlopen(url, data=None, proxies=None, context=None)\n",
      "    Create a file-like object for the specified URL to read from.\n",
      "\n"
     ]
    }
   ],
   "source": [
    "help(urllib.urlopen)"
   ]
  },
  {
   "cell_type": "code",
   "execution_count": 16,
   "metadata": {
    "collapsed": false
   },
   "outputs": [
    {
     "ename": "ImportError",
     "evalue": "No module named coolmodule",
     "output_type": "error",
     "traceback": [
      "\u001b[1;31m---------------------------------------------------------------------------\u001b[0m",
      "\u001b[1;31mImportError\u001b[0m                               Traceback (most recent call last)",
      "\u001b[1;32m<ipython-input-16-e66940f12af5>\u001b[0m in \u001b[0;36m<module>\u001b[1;34m()\u001b[0m\n\u001b[1;32m----> 1\u001b[1;33m \u001b[1;32mfrom\u001b[0m \u001b[0mcoolmodule\u001b[0m \u001b[1;32mimport\u001b[0m \u001b[0mcoolpackage\u001b[0m\u001b[1;33m\u001b[0m\u001b[0m\n\u001b[0m",
      "\u001b[1;31mImportError\u001b[0m: No module named coolmodule"
     ]
    }
   ],
   "source": [
    "from coolmodule import coolpackage"
   ]
  },
  {
   "cell_type": "code",
   "execution_count": 17,
   "metadata": {
    "collapsed": false
   },
   "outputs": [
    {
     "name": "stdout",
     "output_type": "stream",
     "text": [
      "['findall', 'finditer']\n"
     ]
    }
   ],
   "source": [
    "import re\n",
    "\n",
    "# Your code goes here\n",
    "modulez      = dir(re)\n",
    "findz        = [k for k in modulez if 'find' in k]\n",
    "sorted_findz = sorted(findz)\n",
    "print sorted_findz"
   ]
  },
  {
   "cell_type": "markdown",
   "metadata": {},
   "source": [
    "## Generators"
   ]
  },
  {
   "cell_type": "code",
   "execution_count": 18,
   "metadata": {
    "collapsed": false
   },
   "outputs": [
    {
     "name": "stdout",
     "output_type": "stream",
     "text": [
      "And the next number is... 121!\n",
      "And the next number is... 305!\n",
      "And the next number is... 285!\n",
      "And the next number is... 354!\n",
      "And the next number is... 205!\n",
      "And the next number is... 131!\n",
      "And the next number is... 14!\n"
     ]
    }
   ],
   "source": [
    "import random\n",
    "\n",
    "def lottery():\n",
    "    # returns 6 numbers between 1 and 40\n",
    "    for i in xrange(6):\n",
    "        yield random.randint(100, 400)\n",
    "\n",
    "    # returns a 7th number between 1 and 15\n",
    "    yield random.randint(1,15)\n",
    "\n",
    "for random_number in lottery():\n",
    "    print \"And the next number is... %d!\" % random_number"
   ]
  },
  {
   "cell_type": "markdown",
   "metadata": {},
   "source": [
    "## Fibonacci Series Algorithm"
   ]
  },
  {
   "cell_type": "code",
   "execution_count": 19,
   "metadata": {
    "collapsed": false
   },
   "outputs": [
    {
     "name": "stdout",
     "output_type": "stream",
     "text": [
      "Good, The fib function is a generator.\n",
      "1\n",
      "1\n",
      "2\n",
      "3\n",
      "5\n",
      "8\n",
      "13\n",
      "21\n",
      "34\n",
      "55\n"
     ]
    }
   ],
   "source": [
    "# fill in this function\n",
    "def fib():\n",
    "    \n",
    "    a, b = 1, 1\n",
    "    while 1:\n",
    "        yield a\n",
    "        a, b = b, a + b\n",
    "    \n",
    "    #pass #this is a null statement which does nothing when executed, useful as a placeholder.\n",
    "\n",
    "# testing code\n",
    "import types\n",
    "if type(fib()) == types.GeneratorType:\n",
    "    print \"Good, The fib function is a generator.\"\n",
    "\n",
    "    counter = 0\n",
    "    for n in fib():\n",
    "        print n\n",
    "        counter += 1\n",
    "        if counter == 10:\n",
    "            break"
   ]
  },
  {
   "cell_type": "markdown",
   "metadata": {
    "collapsed": true
   },
   "source": [
    "## List Comprehensions\n",
    "\n",
    "Here is a normal way to count the length of words in a list:"
   ]
  },
  {
   "cell_type": "code",
   "execution_count": 20,
   "metadata": {
    "collapsed": false
   },
   "outputs": [
    {
     "name": "stdout",
     "output_type": "stream",
     "text": [
      "['the', 'quick', 'brown', 'fox', 'jumps', 'over', 'the', 'lazy', 'dog']\n",
      "[5, 5, 3, 5, 4, 4, 3]\n"
     ]
    }
   ],
   "source": [
    "sentence = \"the quick brown fox jumps over the lazy dog\"\n",
    "words = sentence.split()\n",
    "word_lengths = []\n",
    "for word in words:\n",
    "    if word != \"the\":\n",
    "        word_lengths.append(len(word))\n",
    "        \n",
    "print words\n",
    "print word_lengths"
   ]
  },
  {
   "cell_type": "markdown",
   "metadata": {},
   "source": [
    "Below, we can now use **List Comprehensions** to simplify this process:"
   ]
  },
  {
   "cell_type": "code",
   "execution_count": 21,
   "metadata": {
    "collapsed": false
   },
   "outputs": [
    {
     "name": "stdout",
     "output_type": "stream",
     "text": [
      "[5, 5, 3, 5, 4, 4, 3]\n"
     ]
    }
   ],
   "source": [
    "sentence = \"the quick brown fox jumps over the lazy dog\"\n",
    "words = sentence.split()\n",
    "word_lengths = [len(word) for word in words if word != \"the\"]\n",
    "\n",
    "print word_lengths"
   ]
  },
  {
   "cell_type": "markdown",
   "metadata": {},
   "source": [
    "### Excercise\n",
    "\n",
    "Using a list comprehension, create a new list called \"newlist\" out of the list \"numbers\", which contains only the positive numbers from the list, as integers."
   ]
  },
  {
   "cell_type": "code",
   "execution_count": 22,
   "metadata": {
    "collapsed": false
   },
   "outputs": [
    {
     "name": "stdout",
     "output_type": "stream",
     "text": [
      "[34, 44, 68, 44, 12]\n"
     ]
    }
   ],
   "source": [
    "numbers = [34.6, -203.4, 44.9, 68.3, -12.2, 44.6, 12.7]\n",
    "newlist = [int(numb) for numb in numbers if numb >= 0]\n",
    "\n",
    "print newlist"
   ]
  },
  {
   "cell_type": "markdown",
   "metadata": {
    "collapsed": true
   },
   "source": [
    "## Multiple Function Arguements\n",
    "\n",
    "It is possible to declare functions which receive a variable number of arguments, using the following syntax:"
   ]
  },
  {
   "cell_type": "code",
   "execution_count": 40,
   "metadata": {
    "collapsed": false
   },
   "outputs": [
    {
     "name": "stdout",
     "output_type": "stream",
     "text": [
      "First: this\n",
      "Second: is\n",
      "Third: kinda\n",
      "And all the rest... ['neat', \"let's\", 'see', 'how', 'far', 'it', 'goes']\n"
     ]
    }
   ],
   "source": [
    "def foo(first, second, third, *therest):\n",
    "    print \"First: %s\" % first\n",
    "    print \"Second: %s\" % second\n",
    "    print \"Third: %s\" % third\n",
    "    print \"And all the rest... %s\" % list(therest)\n",
    "    \n",
    "foo(\"this\", \"is\", \"kinda\", \"neat\", \"let's\", \"see\", \"how\", \"far\", \"it\", \"goes\")"
   ]
  },
  {
   "cell_type": "code",
   "execution_count": 48,
   "metadata": {
    "collapsed": false
   },
   "outputs": [
    {
     "name": "stdout",
     "output_type": "stream",
     "text": [
      "The sum is: 6\n",
      "This should be first: 1\n"
     ]
    }
   ],
   "source": [
    "def bar(first, second, third, **options):\n",
    "    if options.get(\"action\") == \"sum\":\n",
    "        print \"The sum is: %d\" % (first + second + third)\n",
    "\n",
    "    if options.get(\"number\") == \"first\":\n",
    "        return first\n",
    "\n",
    "result = bar(1, 2, 3, action = \"sum\", number = \"first\")\n",
    "print \"This should be first: %d\" % result"
   ]
  },
  {
   "cell_type": "markdown",
   "metadata": {},
   "source": [
    "### Excercise\n",
    "\n",
    "Fill in the foo and bar functions so they can receive a variable amount of arguments (3 or more) The foo function must return the amount of extra arguments received. The bar must return True if the argument with the keyword magicnumber is worth 7, and False otherwise."
   ]
  },
  {
   "cell_type": "code",
   "execution_count": 37,
   "metadata": {
    "collapsed": false
   },
   "outputs": [
    {
     "name": "stdout",
     "output_type": "stream",
     "text": [
      "('thisistherest', 'thisismorerest', 1)\n",
      "Good.\n",
      "(4, 5)\n"
     ]
    }
   ],
   "source": [
    "# edit the functions prototype and implementation\n",
    "def foo(a, b, c, *therest):\n",
    "    if therest is not None:\n",
    "        print therest\n",
    "        return 1\n",
    "\n",
    "def bar(a, b, c, *therest):\n",
    "    return 1 + 1\n",
    "\n",
    "# test code\n",
    "if foo(1,2,3,'thisistherest', 'thisismorerest', 1) == 1:\n",
    "    print \"Good.\"\n",
    "if foo(1,2,3,4,5) == 2:\n",
    "    print \"Better.\"\n",
    "#if bar(1,2,3,magicnumber = 6) == False:\n",
    "#    print \"Great.\"\n",
    "#if bar(1,2,3,magicnumber = 7) == True:\n",
    "#    print \"Awesome!\""
   ]
  },
  {
   "cell_type": "code",
   "execution_count": null,
   "metadata": {
    "collapsed": true
   },
   "outputs": [],
   "source": []
  }
 ],
 "metadata": {
  "kernelspec": {
   "display_name": "Python 2",
   "language": "python",
   "name": "python2"
  },
  "language_info": {
   "codemirror_mode": {
    "name": "ipython",
    "version": 2
   },
   "file_extension": ".py",
   "mimetype": "text/x-python",
   "name": "python",
   "nbconvert_exporter": "python",
   "pygments_lexer": "ipython2",
   "version": "2.7.11"
  }
 },
 "nbformat": 4,
 "nbformat_minor": 0
}
