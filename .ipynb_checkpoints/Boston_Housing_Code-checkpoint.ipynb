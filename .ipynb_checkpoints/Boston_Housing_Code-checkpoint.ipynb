{
 "cells": [
  {
   "cell_type": "markdown",
   "metadata": {},
   "source": [
    "# Machine Learning Engineer Nanodegree\n",
    "## Model Evaluation & Validation\n",
    "## Project 1: Predicting Boston Housing Prices\n",
    "\n",
    "Welcome to the first project of the Machine Learning Engineer Nanodegree! In this notebook, some template code has already been written. You will need to implement additional functionality to successfully answer all of the questions for this project. Unless it is requested, do not modify any of the code that has already been included. In this template code, there are four sections which you must complete to successfully produce a prediction with your model. Each section where you will write code is preceded by a **STEP X** header with comments describing what must be done. Please read the instructions carefully!\n",
    "\n",
    "In addition to implementing code, there will be questions that you must answer that relate to the project and your implementation. Each section where you will answer a question is preceded by a **QUESTION X** header. Be sure that you have carefully read each question and provide thorough answers in the text boxes that begin with \"**Answer:**\". Your project submission will be evaluated based on your answers to each of the questions.  \n",
    "\n",
    "A description of the dataset can be found [here](https://archive.ics.uci.edu/ml/datasets/Housing), which is provided by the **UCI Machine Learning Repository**."
   ]
  },
  {
   "cell_type": "markdown",
   "metadata": {},
   "source": [
    "# Getting Started\n",
    "To familiarize yourself with an iPython Notebook, **try double clicking on this cell**. You will notice that the text changes so that all the formatting is removed. This allows you to make edits to the block of text you see here. This block of text (and mostly anything that's not code) is written using [Markdown](http://daringfireball.net/projects/markdown/syntax), which is a way to format text using headers, links, italics, and many other options! Whether you're editing a Markdown text block or a code block (like the one below), you can use the keyboard shortcut **Shift + Enter** or **Shift + Return** to execute the code or text block. In this case, it will show the formatted text.\n",
    "\n",
    "Let's start by setting up some code we will need to get the rest of the project up and running. Use the keyboard shortcut mentioned above on the following code block to execute it. Alternatively, depending on your iPython Notebook program, you can press the **Play** button in the hotbar. You'll know the code block executes successfully if the message *\"Boston Housing dataset loaded successfully!\"* is printed."
   ]
  },
  {
   "cell_type": "code",
   "execution_count": 70,
   "metadata": {
    "collapsed": false
   },
   "outputs": [
    {
     "name": "stdout",
     "output_type": "stream",
     "text": [
      "[  3  11  11   0   0   6  68   3   9 408  18 356  12]\n",
      "Boston Housing dataset loaded successfully!\n"
     ]
    }
   ],
   "source": [
    "# Importing a few necessary libraries\n",
    "import numpy as np\n",
    "import matplotlib.pyplot as pl\n",
    "from sklearn import datasets\n",
    "from sklearn.tree import DecisionTreeRegressor\n",
    "\n",
    "# Make matplotlib show our plots inline (nicely formatted in the notebook)\n",
    "%matplotlib inline\n",
    "\n",
    "# Create our client's feature set for which we will be predicting a selling price\n",
    "CLIENT_FEATURES = [[11.95, 0.00, 18.100, 0, 0.6590, 5.6090, 90.00, 1.385, 24, 680.0, 20.20, 332.09, 12.13]]\n",
    "\n",
    "\n",
    "# Load the Boston Housing dataset into the city_data variable\n",
    "city_data = datasets.load_boston()\n",
    "\n",
    "# Initialize the housing prices and housing features\n",
    "housing_prices = city_data.target\n",
    "housing_features = city_data.data\n",
    "\n",
    "\n",
    "meanss = np.mean(housing_features, axis = 0)\n",
    "print meanss.astype(int)\n",
    "\n",
    "    \n",
    "print \"Boston Housing dataset loaded successfully!\""
   ]
  },
  {
   "cell_type": "markdown",
   "metadata": {},
   "source": [
    "# Statistical Analysis and Data Exploration\n",
    "In this first section of the project, you will quickly investigate a few basic statistics about the dataset you are working with. In addition, you'll look at the client's feature set in `CLIENT_FEATURES` and see how this particular sample relates to the features of the dataset. Familiarizing yourself with the data through an explorative process is a fundamental practice to help you better understand your results."
   ]
  },
  {
   "cell_type": "markdown",
   "metadata": {},
   "source": [
    "## Step 1\n",
    "In the code block below, use the imported `numpy` library to calculate the requested statistics. You will need to replace each `None` you find with the appropriate `numpy` coding for the proper statistic to be printed. Be sure to execute the code block each time to test if your implementation is working successfully. The print statements will show the statistics you calculate!"
   ]
  },
  {
   "cell_type": "code",
   "execution_count": 2,
   "metadata": {
    "collapsed": false
   },
   "outputs": [
    {
     "name": "stdout",
     "output_type": "stream",
     "text": [
      "Boston Housing dataset statistics (in $1000's):\n",
      "\n",
      "Total number of houses: 506\n",
      "Total number of features: 13\n",
      "Minimum house price: 5.0\n",
      "Maximum house price: 50.0\n",
      "Mean house price: 22.533\n",
      "Median house price: 21.2\n",
      "Standard deviation of house price: 9.188\n"
     ]
    }
   ],
   "source": [
    "# Number of houses in the dataset\n",
    "total_houses   = np.count_nonzero(housing_prices)\n",
    "\n",
    "# Number of features in the dataset\n",
    "total_features = city_data.data.shape[1]\n",
    "\n",
    "# Minimum housing value in the dataset\n",
    "minimum_price  = np.amin(city_data.target)\n",
    "\n",
    "# Maximum housing value in the dataset\n",
    "maximum_price  = np.amax(city_data.target)\n",
    "\n",
    "# Mean house value of the dataset\n",
    "mean_price     = np.average(city_data.target)\n",
    "\n",
    "# Median house value of the dataset\n",
    "median_price   = np.median(city_data.target)\n",
    "\n",
    "# Standard deviation of housing values of the dataset\n",
    "std_dev        = np.std(city_data.target)\n",
    "\n",
    "# Show the calculated statistics\n",
    "print \"Boston Housing dataset statistics (in $1000's):\\n\"\n",
    "print \"Total number of houses:\", total_houses\n",
    "print \"Total number of features:\", total_features\n",
    "print \"Minimum house price:\", minimum_price\n",
    "print \"Maximum house price:\", maximum_price\n",
    "print \"Mean house price: {0:.3f}\".format(mean_price)\n",
    "print \"Median house price:\", median_price\n",
    "print \"Standard deviation of house price: {0:.3f}\".format(std_dev)"
   ]
  },
  {
   "cell_type": "code",
   "execution_count": 18,
   "metadata": {
    "collapsed": false
   },
   "outputs": [
    {
     "name": "stdout",
     "output_type": "stream",
     "text": [
      "[[11.95, 0.0, 18.1, 0, 0.659, 5.609, 90.0, 1.385, 24, 680.0, 20.2, 332.09, 12.13]]\n"
     ]
    }
   ],
   "source": [
    "print CLIENT_FEATURES"
   ]
  },
  {
   "cell_type": "markdown",
   "metadata": {},
   "source": [
    "# Evaluating Model Performance\n",
    "In this second section of the project, you will begin to develop the tools necessary for a model to make a prediction. Being able to accurately evaluate each model's performance through the use of these tools helps to greatly reinforce the confidence in your predictions."
   ]
  },
  {
   "cell_type": "markdown",
   "metadata": {},
   "source": [
    "## Step 2\n",
    "In the code block below, you will need to implement code so that the `shuffle_split_data` function does the following:\n",
    "- Randomly shuffle the input data `X` and target labels (housing values) `y`.\n",
    "- Split the data into training and testing subsets, holding 30% of the data for testing.\n",
    "\n",
    "If you use any functions not already acessible from the imported libraries above, remember to include your import statement below as well!   \n",
    "Ensure that you have executed the code block once you are done. You'll know the `shuffle_split_data` function is working if the statement *\"Successfully shuffled and split the data!\"* is printed."
   ]
  },
  {
   "cell_type": "code",
   "execution_count": 11,
   "metadata": {
    "collapsed": false
   },
   "outputs": [
    {
     "name": "stdout",
     "output_type": "stream",
     "text": [
      "Successfully shuffled and split the data!\n"
     ]
    }
   ],
   "source": [
    "# Put any import statements you need for this code block here\n",
    "import sklearn.metrics as sk\n",
    "\n",
    "\n",
    "def shuffle_split_data(X, y):\n",
    "    \"\"\" Shuffles and splits data into 70% training and 30% testing subsets,\n",
    "        then returns the training and testing subsets. \"\"\"\n",
    "\n",
    "    # Shuffle and split the data\n",
    "\n",
    "    X_train, X_test, y_train, y_test = cv.train_test_split(X, y, test_size=0.30, random_state=1)\n",
    "\n",
    "    # Return the training and testing data subsets\n",
    "    return X_train, y_train, X_test, y_test\n",
    "\n",
    "\n",
    "# Test shuffle_split_data\n",
    "try:\n",
    "    X_train, y_train, X_test, y_test = shuffle_split_data(housing_features, housing_prices)\n",
    "    print \"Successfully shuffled and split the data!\"\n",
    "except:\n",
    "    print \"Something went wrong with shuffling and splitting the data.\""
   ]
  },
  {
   "cell_type": "markdown",
   "metadata": {},
   "source": [
    "## Step 3\n",
    "In the code block below, you will need to implement code so that the `performance_metric` function does the following:\n",
    "- Perform a total error calculation between the true values of the `y` labels `y_true` and the predicted values of the `y` labels `y_predict`.\n",
    "\n",
    "You will need to first choose an appropriate performance metric for this problem. See [the sklearn metrics documentation](http://scikit-learn.org/stable/modules/classes.html#sklearn-metrics-metrics) to view a list of available metric functions. **Hint: ** Look at the question below to see a list of the metrics that were covered in the supporting course for this project.\n",
    "\n",
    "Once you have determined which metric you will use, remember to include the necessary import statement as well!  \n",
    "Ensure that you have executed the code block once you are done. You'll know the `performance_metric` function is working if the statement *\"Successfully performed a metric calculation!\"* is printed."
   ]
  },
  {
   "cell_type": "code",
   "execution_count": 12,
   "metadata": {
    "collapsed": false
   },
   "outputs": [
    {
     "name": "stdout",
     "output_type": "stream",
     "text": [
      "0.0\n",
      "Successfully performed a metric calculation!\n"
     ]
    }
   ],
   "source": [
    "# Put any import statements you need for this code block here\n",
    "import sklearn.metrics as sk\n",
    "\n",
    "\n",
    "def performance_metric(y_true, y_predict):\n",
    "    \"\"\" Calculates and returns the total error between true and predicted values\n",
    "        based on a performance metric chosen by the student. \"\"\"\n",
    "\n",
    "    error = sk.mean_squared_error(y_true, y_predict)\n",
    "    print error\n",
    "    return error\n",
    "\n",
    "\n",
    "# Test performance_metric\n",
    "try:\n",
    "    total_error = performance_metric(y_train, y_train)\n",
    "    print \"Successfully performed a metric calculation!\"\n",
    "except:\n",
    "    print \"Something went wrong with performing a metric calculation.\""
   ]
  },
  {
   "cell_type": "markdown",
   "metadata": {},
   "source": [
    "## Step 4 (Final Step)\n",
    "In the code block below, you will need to implement code so that the `fit_model` function does the following:\n",
    "- Create a scoring function using the same performance metric as in **Step 2**. See the [sklearn `make_scorer` documentation](http://scikit-learn.org/stable/modules/generated/sklearn.metrics.make_scorer.html).\n",
    "- Build a GridSearchCV object using `regressor`, `parameters`, and `scoring_function`. See the [sklearn documentation on GridSearchCV](http://scikit-learn.org/stable/modules/generated/sklearn.grid_search.GridSearchCV.html).\n",
    "\n",
    "When building the scoring function and GridSearchCV object, *be sure that you read the parameters documentation thoroughly.* It is not always the case that a default parameter for a function is the appropriate setting for the problem you are working on.\n",
    "\n",
    "Since you are using `sklearn` functions, remember to include the necessary import statements below as well!  \n",
    "Ensure that you have executed the code block once you are done. You'll know the `fit_model` function is working if the statement *\"Successfully fit a model to the data!\"* is printed."
   ]
  },
  {
   "cell_type": "code",
   "execution_count": 14,
   "metadata": {
    "collapsed": false
   },
   "outputs": [
    {
     "name": "stdout",
     "output_type": "stream",
     "text": [
      "Successfully fit a model!\n"
     ]
    }
   ],
   "source": [
    "# Put any import statements you need for this code block\n",
    "from sklearn import grid_search as gs\n",
    "from sklearn import metrics as m\n",
    "\n",
    "\n",
    "def fit_model(X, y):\n",
    "    \"\"\" Tunes a decision tree regressor model using GridSearchCV on the input data X \n",
    "        and target labels y and returns this optimal model. \"\"\"\n",
    "\n",
    "    # Create a decision tree regressor object\n",
    "    regressor = DecisionTreeRegressor()\n",
    "\n",
    "    # Set up the parameters we wish to tune\n",
    "    parameters = {'max_depth':(1,2,3,4,5,6,7,8,9,10)}\n",
    "\n",
    "    # Make an appropriate scoring function\n",
    "    scoring_function = m.make_scorer(m.mean_squared_error, greater_is_better = False)\n",
    "\n",
    "    # Make the GridSearchCV object\n",
    "    reg = gs.GridSearchCV(regressor,parameters, scoring=scoring_function)\n",
    "\n",
    "    # Fit the learner to the data to obtain the optimal model with tuned parameters\n",
    "    reg.fit(X, y)\n",
    "\n",
    "    # Return the optimal model\n",
    "    return reg.best_estimator_\n",
    "\n",
    "\n",
    "# Test fit_model on entire dataset\n",
    "try:\n",
    "    reg = fit_model(housing_features, housing_prices)\n",
    "    print \"Successfully fit a model!\"\n",
    "except:\n",
    "    print \"Something went wrong with fitting a model.\""
   ]
  },
  {
   "cell_type": "markdown",
   "metadata": {},
   "source": [
    "# Checkpoint!\n",
    "You have now successfully completed your last code implementation section. Pat yourself on the back! All of your functions written above will be executed in the remaining sections below, and questions will be asked about various results for you to analyze. To prepare the **Analysis** and **Prediction** sections, you will need to intialize the two functions below. Remember, there's no need to implement any more code, so sit back and execute the code blocks! Some code comments are provided if you find yourself interested in the functionality."
   ]
  },
  {
   "cell_type": "code",
   "execution_count": 19,
   "metadata": {
    "collapsed": true
   },
   "outputs": [],
   "source": [
    "def learning_curves(X_train, y_train, X_test, y_test):\n",
    "    \"\"\" Calculates the performance of several models with varying sizes of training data.\n",
    "        The learning and testing error rates for each model are then plotted. \"\"\"\n",
    "    \n",
    "    print \"Creating learning curve graphs for max_depths of 1, 3, 6, and 10. . .\"\n",
    "    \n",
    "    # Create the figure window\n",
    "    fig = pl.figure(figsize=(10,8))\n",
    "\n",
    "    # We will vary the training set size so that we have 50 different sizes\n",
    "    sizes = np.rint(np.linspace(1, len(X_train), 50)).astype(int)\n",
    "    train_err = np.zeros(len(sizes))\n",
    "    test_err = np.zeros(len(sizes))\n",
    "\n",
    "    # Create four different models based on max_depth\n",
    "    for k, depth in enumerate([1,3,6,10]):\n",
    "        \n",
    "        for i, s in enumerate(sizes):\n",
    "            \n",
    "            # Setup a decision tree regressor so that it learns a tree with max_depth = depth\n",
    "            regressor = DecisionTreeRegressor(max_depth = depth)\n",
    "            \n",
    "            # Fit the learner to the training data\n",
    "            regressor.fit(X_train[:s], y_train[:s])\n",
    "\n",
    "            # Find the performance on the training set\n",
    "            train_err[i] = performance_metric(y_train[:s], regressor.predict(X_train[:s]))\n",
    "            \n",
    "            # Find the performance on the testing set\n",
    "            test_err[i] = performance_metric(y_test, regressor.predict(X_test))\n",
    "\n",
    "        # Subplot the learning curve graph\n",
    "        ax = fig.add_subplot(2, 2, k+1)\n",
    "        ax.plot(sizes, test_err, lw = 2, label = 'Testing Error')\n",
    "        ax.plot(sizes, train_err, lw = 2, label = 'Training Error')\n",
    "        ax.legend()\n",
    "        ax.set_title('max_depth = %s'%(depth))\n",
    "        ax.set_xlabel('Number of Data Points in Training Set')\n",
    "        ax.set_ylabel('Total Error')\n",
    "        ax.set_xlim([0, len(X_train)])\n",
    "    \n",
    "    # Visual aesthetics\n",
    "    fig.suptitle('Decision Tree Regressor Learning Performances', fontsize=18, y=1.03)\n",
    "    fig.tight_layout()\n",
    "    fig.show()"
   ]
  },
  {
   "cell_type": "code",
   "execution_count": 20,
   "metadata": {
    "collapsed": true
   },
   "outputs": [],
   "source": [
    "def model_complexity(X_train, y_train, X_test, y_test):\n",
    "    \"\"\" Calculates the performance of the model as model complexity increases.\n",
    "        The learning and testing errors rates are then plotted. \"\"\"\n",
    "    \n",
    "    print \"Creating a model complexity graph. . . \"\n",
    "\n",
    "    # We will vary the max_depth of a decision tree model from 1 to 14\n",
    "    max_depth = np.arange(1, 14)\n",
    "    train_err = np.zeros(len(max_depth))\n",
    "    test_err = np.zeros(len(max_depth))\n",
    "\n",
    "    for i, d in enumerate(max_depth):\n",
    "        # Setup a Decision Tree Regressor so that it learns a tree with depth d\n",
    "        regressor = DecisionTreeRegressor(max_depth = d)\n",
    "\n",
    "        # Fit the learner to the training data\n",
    "        regressor.fit(X_train, y_train)\n",
    "\n",
    "        # Find the performance on the training set\n",
    "        train_err[i] = performance_metric(y_train, regressor.predict(X_train))\n",
    "\n",
    "        # Find the performance on the testing set\n",
    "        test_err[i] = performance_metric(y_test, regressor.predict(X_test))\n",
    "\n",
    "    # Plot the model complexity graph\n",
    "    pl.figure(figsize=(7, 5))\n",
    "    pl.title('Decision Tree Regressor Complexity Performance')\n",
    "    pl.plot(max_depth, test_err, lw=2, label = 'Testing Error')\n",
    "    pl.plot(max_depth, train_err, lw=2, label = 'Training Error')\n",
    "    pl.legend()\n",
    "    pl.xlabel('Maximum Depth')\n",
    "    pl.ylabel('Total Error')\n",
    "    pl.show()"
   ]
  },
  {
   "cell_type": "markdown",
   "metadata": {},
   "source": [
    "# Analyzing Model Performance\n",
    "In this third section of the project, you'll take a look at several models' learning and testing error rates on various subsets of training data. Additionally, you'll investigate one particular algorithm with an increasing `max_depth` parameter on the full training set to observe how model complexity affects learning and testing errors. Graphing your model's performance based on varying criteria can be beneficial in the analysis process, such as visualizing behavior that may not have been apparent from the results alone."
   ]
  },
  {
   "cell_type": "code",
   "execution_count": 17,
   "metadata": {
    "collapsed": false
   },
   "outputs": [
    {
     "name": "stdout",
     "output_type": "stream",
     "text": [
      "Creating learning curve graphs for max_depths of 1, 3, 6, and 10. . .\n",
      "0.0\n",
      "98.3224342105\n",
      "8.03729166667\n",
      "84.7365497076\n",
      "21.8544761905\n",
      "70.7667991407\n",
      "23.1092339545\n",
      "61.1647255042\n",
      "22.6923214286\n",
      "72.2093682029\n",
      "28.4026718147\n",
      "72.1955344791\n",
      "28.2421861472\n",
      "72.5744462346\n",
      "44.6502208014\n",
      "63.3395175803\n",
      "40.5614915254\n",
      "63.259452924\n",
      "39.2708912072\n",
      "57.7902117413\n",
      "35.883516116\n",
      "57.7762710498\n",
      "38.3001368243\n",
      "57.7035356075\n",
      "37.9522341045\n",
      "57.7507873792\n",
      "38.463155418\n",
      "57.719004389\n",
      "40.2347602827\n",
      "60.748646112\n",
      "41.9236826629\n",
      "60.7703621456\n",
      "42.9111832252\n",
      "60.6826006721\n",
      "43.8054770249\n",
      "60.7831630425\n",
      "43.1595830153\n",
      "60.8720775391\n",
      "43.0599659974\n",
      "53.1418584726\n",
      "43.4140491641\n",
      "53.1057795338\n",
      "43.4483012342\n",
      "53.1070069404\n",
      "42.6289119167\n",
      "53.1125756047\n",
      "41.3856158326\n",
      "53.1541356251\n",
      "40.4582730389\n",
      "53.1481182331\n",
      "40.0343493947\n",
      "53.1558947019\n",
      "40.3570943276\n",
      "53.235242432\n",
      "39.5149471983\n",
      "53.2333562489\n",
      "39.5835361386\n",
      "53.1771623394\n",
      "41.3269090732\n",
      "53.1803770546\n",
      "40.9301296962\n",
      "53.1292070883\n",
      "40.0715566388\n",
      "53.1591725519\n",
      "39.5024007757\n",
      "53.1584572394\n",
      "39.8995693132\n",
      "53.2390284667\n",
      "41.4494614244\n",
      "56.3215869365\n",
      "42.4568140801\n",
      "53.1363012498\n",
      "42.6158107737\n",
      "53.1407116045\n",
      "43.603990571\n",
      "61.3851039297\n",
      "43.9062506887\n",
      "61.5535811162\n",
      "43.5387623694\n",
      "61.6326675225\n",
      "45.9954481628\n",
      "53.2497946861\n",
      "46.2489900056\n",
      "54.298310604\n",
      "46.1315919384\n",
      "54.2687661071\n",
      "45.6047181481\n",
      "54.2967786594\n",
      "45.4273819329\n",
      "54.2445341495\n",
      "45.0757477846\n",
      "54.2064264255\n",
      "44.7618472132\n",
      "54.1817392761\n",
      "44.1806192316\n",
      "54.1813454764\n",
      "43.7395408424\n",
      "54.158010876\n",
      "44.6808032477\n",
      "54.1464733818\n",
      "0.0\n",
      "98.3224342105\n",
      "0.0408333333333\n",
      "68.2269444444\n",
      "3.92893333333\n",
      "53.3334151316\n",
      "3.04708074534\n",
      "36.9376597744\n",
      "5.41435858586\n",
      "51.0740121384\n",
      "6.7191722973\n",
      "47.583228053\n",
      "6.51004786574\n",
      "35.7275264831\n",
      "13.6877615025\n",
      "55.5049990213\n",
      "13.7464381759\n",
      "53.1191352684\n",
      "13.9670885616\n",
      "49.1969397666\n",
      "13.0815586653\n",
      "50.8334470821\n",
      "11.8691444619\n",
      "50.1435293555\n",
      "12.0661845592\n",
      "55.3630977196\n",
      "12.1875604056\n",
      "46.2803445276\n",
      "11.6109034462\n",
      "31.8636033596\n",
      "12.5039310713\n",
      "39.8654795001\n",
      "12.7122574507\n",
      "32.1163912225\n",
      "12.8821424261\n",
      "32.1125912577\n",
      "12.8089975446\n",
      "32.229188181\n",
      "13.5322835184\n",
      "35.2391783407\n",
      "13.7745841406\n",
      "20.3456602448\n",
      "13.8868690798\n",
      "30.6148372348\n",
      "13.6064269329\n",
      "35.4010598535\n",
      "13.5646338121\n",
      "24.18663113\n",
      "13.894445682\n",
      "25.9845459925\n",
      "13.7359754059\n",
      "31.5642190526\n",
      "14.9550107394\n",
      "25.2487469515\n",
      "14.5396325714\n",
      "30.3220325687\n",
      "14.6305643324\n",
      "17.5648429739\n",
      "13.8556368775\n",
      "30.5339075705\n",
      "13.8225033561\n",
      "30.1822861116\n",
      "13.3452279804\n",
      "30.4653851761\n",
      "13.5883473774\n",
      "38.5614451146\n",
      "13.9898833943\n",
      "31.1383744437\n",
      "14.5982279202\n",
      "21.7764731065\n",
      "16.5294474737\n",
      "34.0557909535\n",
      "16.8083988203\n",
      "33.490565682\n",
      "15.4298847992\n",
      "28.0459242963\n",
      "15.3837370723\n",
      "28.0346409386\n",
      "15.7292320446\n",
      "28.3684674445\n",
      "17.1916893553\n",
      "31.3718417546\n",
      "16.4855634005\n",
      "20.3306116827\n",
      "16.3913024833\n",
      "20.3691110774\n",
      "16.3852216826\n",
      "20.4160943402\n",
      "16.3346453093\n",
      "19.858015733\n",
      "16.3113045147\n",
      "29.9194260175\n",
      "16.3626727765\n",
      "18.465570053\n",
      "16.4829684442\n",
      "18.5342407562\n",
      "16.3198363958\n",
      "18.4278005684\n",
      "16.2582331003\n",
      "17.7389846107\n",
      "0.0\n",
      "98.3224342105\n",
      "0.0\n",
      "70.8125657895\n",
      "0.195666666667\n",
      "55.7856414474\n",
      "0.0428260869565\n",
      "40.3136513158\n",
      "0.196166666667\n",
      "58.7248848684\n",
      "0.148423423423\n",
      "53.6934548246\n",
      "0.270691287879\n",
      "39.3068799114\n",
      "1.29988795518\n",
      "36.0620150525\n",
      "1.46389612224\n",
      "39.549739162\n",
      "2.27667846043\n",
      "49.6865598821\n",
      "2.06449543379\n",
      "39.1518122076\n",
      "1.92385885989\n",
      "44.6703657398\n",
      "1.66134619595\n",
      "41.0911235164\n",
      "1.41869014202\n",
      "43.4873844461\n",
      "1.57256325864\n",
      "54.2097493317\n",
      "1.65615820724\n",
      "28.7462713667\n",
      "1.8703640952\n",
      "31.6028992533\n",
      "2.00993407293\n",
      "27.2226634162\n",
      "2.272193135\n",
      "29.2977779144\n",
      "1.96465145503\n",
      "16.0523597798\n",
      "2.38016399463\n",
      "31.1034867447\n",
      "2.20798149256\n",
      "24.4936258125\n",
      "2.35001996682\n",
      "24.8354799432\n",
      "1.91358477281\n",
      "18.7876283968\n",
      "2.13292091873\n",
      "16.2880367674\n",
      "2.11802174268\n",
      "18.4201935598\n",
      "2.25318927196\n",
      "18.4436391621\n",
      "2.77362099352\n",
      "17.2561625935\n",
      "2.80872589473\n",
      "21.0618284788\n",
      "2.25119066952\n",
      "42.5882574377\n",
      "2.58237463059\n",
      "35.115248053\n",
      "2.3840490892\n",
      "29.5490680159\n",
      "2.50914761554\n",
      "44.8752948743\n",
      "2.83779570347\n",
      "36.1138682343\n",
      "3.43780105213\n",
      "14.6075223764\n",
      "2.89123768693\n",
      "39.0402507196\n",
      "3.3488545263\n",
      "42.7279214979\n",
      "4.4265031763\n",
      "17.592542811\n",
      "4.35180409384\n",
      "16.5715008199\n",
      "4.85812521382\n",
      "17.6917176102\n",
      "3.9023296193\n",
      "17.0758817219\n",
      "3.97308641554\n",
      "16.9019198956\n",
      "3.90460727621\n",
      "15.2659839188\n",
      "3.92033350785\n",
      "14.2757839242\n",
      "4.26613575608\n",
      "14.4173673409\n",
      "4.16392459984\n",
      "13.7221119365\n",
      "4.47275252777\n",
      "14.9743426279\n",
      "4.52712812522\n",
      "14.6423274622\n",
      "4.50496606448\n",
      "17.5646611531\n",
      "4.17594595812\n",
      "17.7323013399\n",
      "0.0\n",
      "98.3224342105\n",
      "0.0\n",
      "71.93875\n",
      "0.0\n",
      "51.2001315789\n",
      "0.0\n",
      "43.5972368421\n",
      "0.000166666666667\n",
      "51.7109375\n",
      "0.0\n",
      "54.5478947368\n",
      "0.0\n",
      "34.5734868421\n",
      "0.00254901960784\n",
      "41.0729440789\n",
      "0.00135593220339\n",
      "45.0478947368\n",
      "0.11253030303\n",
      "51.6331625\n",
      "0.00414383561644\n",
      "40.6502919408\n",
      "0.00640625\n",
      "43.6283347039\n",
      "0.000229885057471\n",
      "54.2674342105\n",
      "0.000105263157895\n",
      "35.3494901316\n",
      "0.00625816993464\n",
      "53.6336494883\n",
      "0.00100917431193\n",
      "36.7789638158\n",
      "0.00113505747126\n",
      "31.3443932749\n",
      "0.00172086720867\n",
      "28.5729532164\n",
      "0.00284987277354\n",
      "36.367496345\n",
      "0.089568236715\n",
      "21.3009730217\n",
      "0.0479574712644\n",
      "21.0888025219\n",
      "0.0524013157895\n",
      "17.7408589181\n",
      "0.0634538784067\n",
      "21.9837385782\n",
      "0.0291846307385\n",
      "21.4777271382\n",
      "0.054263136289\n",
      "28.1703556342\n",
      "0.0815290055249\n",
      "34.347978591\n",
      "0.0346564716312\n",
      "19.4157645742\n",
      "0.0513183309038\n",
      "17.6001812217\n",
      "0.0635282078349\n",
      "26.7531269043\n",
      "0.207280952381\n",
      "29.1256206323\n",
      "0.209704465657\n",
      "28.7894838321\n",
      "0.275218501984\n",
      "35.7230183845\n",
      "0.18351927682\n",
      "38.0406700795\n",
      "0.244837752903\n",
      "29.6979916062\n",
      "0.736501244164\n",
      "16.1596946558\n",
      "0.167498023715\n",
      "37.1591429276\n",
      "0.173339194139\n",
      "40.353371216\n",
      "0.439834355882\n",
      "18.6022942556\n",
      "0.302364688057\n",
      "19.4793492437\n",
      "0.527624605989\n",
      "19.4449607487\n",
      "0.253293266326\n",
      "16.3200322601\n",
      "0.494475349602\n",
      "16.1043635589\n",
      "0.494324773881\n",
      "17.4054929\n",
      "0.539951862507\n",
      "16.3336069378\n",
      "0.488588172021\n",
      "15.0300424789\n",
      "0.57586548816\n",
      "23.4609410282\n",
      "0.658826944683\n",
      "14.6767697053\n",
      "0.688857930505\n",
      "15.3383656766\n",
      "0.622001952418\n",
      "18.2203175257\n",
      "0.256793181708\n",
      "19.6571659013\n"
     ]
    },
    {
     "name": "stderr",
     "output_type": "stream",
     "text": [
      "C:\\Anaconda2\\lib\\site-packages\\matplotlib\\figure.py:397: UserWarning: matplotlib is currently using a non-GUI backend, so cannot show the figure\n",
      "  \"matplotlib is currently using a non-GUI backend, \"\n"
     ]
    },
    {
     "data": {
      "image/png": "[encoded data removed]",
      "text/plain": [
       "<matplotlib.figure.Figure at 0x8422208>"
      ]
     },
     "metadata": {},
     "output_type": "display_data"
    }
   ],
   "source": [
    "learning_curves(X_train, y_train, X_test, y_test)"
   ]
  },
  {
   "cell_type": "code",
   "execution_count": 21,
   "metadata": {
    "collapsed": false
   },
   "outputs": [
    {
     "name": "stdout",
     "output_type": "stream",
     "text": [
      "Creating a model complexity graph. . . \n",
      "44.6808032477\n",
      "54.1464733818\n",
      "26.3461372216\n",
      "25.6217609916\n",
      "16.2582331003\n",
      "17.7389846107\n",
      "9.2767538123\n",
      "12.4018317397\n",
      "6.29491207432\n",
      "13.9744288629\n",
      "4.17594595812\n",
      "24.0282388399\n",
      "2.26401885362\n",
      "14.7159087919\n",
      "1.16963407345\n",
      "14.7168338191\n",
      "0.536368134455\n",
      "13.0899681915\n",
      "0.256793181708\n",
      "12.7743317253\n",
      "0.119861803059\n",
      "18.7824213075\n",
      "0.0359806967985\n",
      "17.3337794408\n",
      "0.00532519504977\n",
      "18.3072154717\n"
     ]
    },
    {
     "data": {
      "image/png": "[encoded data removed]",
      "text/plain": [
       "<matplotlib.figure.Figure at 0x8aa64e0>"
      ]
     },
     "metadata": {},
     "output_type": "display_data"
    }
   ],
   "source": [
    "model_complexity(X_train, y_train, X_test, y_test)"
   ]
  },
  {
   "cell_type": "markdown",
   "metadata": {},
   "source": [
    "# Model Prediction\n",
    "In this final section of the project, you will make a prediction on the client's feature set using an optimized model from `fit_model`. When applying grid search along with cross-validation to optimize your model, it would typically be performed and validated on a training set and subsequently evaluated on a **dedicated test set**. In this project, the optimization below is performed on the *entire dataset* (as opposed to the training set you made above) due to the many outliers in the data. Using the entire dataset for training provides for a less volatile prediction at the expense of not testing your model's performance. \n",
    "\n",
    "*To answer the following questions, it is recommended that you run the code blocks several times and use the median or mean value of the results.*"
   ]
  },
  {
   "cell_type": "code",
   "execution_count": 53,
   "metadata": {
    "collapsed": false
   },
   "outputs": [
    {
     "name": "stdout",
     "output_type": "stream",
     "text": [
      " Final model has an optimal max_depth parameter of 4\n"
     ]
    }
   ],
   "source": [
    "\n",
    "\n",
    "x = []\n",
    "for i in range(1000):\n",
    "    x.append(reg.get_params()['max_depth'])\n",
    "    \n",
    "print \"Final model has an optimal max_depth parameter of\", int(np.mean(x))"
   ]
  },
  {
   "cell_type": "code",
   "execution_count": 54,
   "metadata": {
    "collapsed": false
   },
   "outputs": [
    {
     "name": "stdout",
     "output_type": "stream",
     "text": [
      "Predicted value of client's home: 21.630\n"
     ]
    }
   ],
   "source": [
    "sale_price = reg.predict(CLIENT_FEATURES)\n",
    "print \"Predicted value of client's home: {0:.3f}\".format(sale_price[0])"
   ]
  }
 ],
 "metadata": {
  "kernelspec": {
   "display_name": "Python [Root]",
   "language": "python",
   "name": "Python [Root]"
  },
  "language_info": {
   "codemirror_mode": {
    "name": "ipython",
    "version": 2
   },
   "file_extension": ".py",
   "mimetype": "text/x-python",
   "name": "python",
   "nbconvert_exporter": "python",
   "pygments_lexer": "ipython2",
   "version": "2.7.11"
  }
 },
 "nbformat": 4,
 "nbformat_minor": 0
}
