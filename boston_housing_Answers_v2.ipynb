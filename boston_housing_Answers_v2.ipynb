{
 "cells": [
  {
   "cell_type": "markdown",
   "metadata": {},
   "source": [
    "# Machine Learning Engineer Nanodegree\n",
    "## Model Evaluation & Validation\n",
    "## Project 1: Predicting Boston Housing Prices\n",
    "\n",
    "Welcome to the first project of the Machine Learning Engineer Nanodegree! In this notebook, some template code has already been written. You will need to implement additional functionality to successfully answer all of the questions for this project. Unless it is requested, do not modify any of the code that has already been included. In this template code, there are four sections which you must complete to successfully produce a prediction with your model. Each section where you will write code is preceded by a **STEP X** header with comments describing what must be done. Please read the instructions carefully!\n",
    "\n",
    "In addition to implementing code, there will be questions that you must answer that relate to the project and your implementation. Each section where you will answer a question is preceded by a **QUESTION X** header. Be sure that you have carefully read each question and provide thorough answers in the text boxes that begin with \"**Answer:**\". Your project submission will be evaluated based on your answers to each of the questions.  \n",
    "\n",
    "A description of the dataset can be found [here](https://archive.ics.uci.edu/ml/datasets/Housing), which is provided by the **UCI Machine Learning Repository**."
   ]
  },
  {
   "cell_type": "markdown",
   "metadata": {},
   "source": [
    "# Getting Started\n",
    "To familiarize yourself with an iPython Notebook, **try double clicking on this cell**. You will notice that the text changes so that all the formatting is removed. This allows you to make edits to the block of text you see here. This block of text (and mostly anything that's not code) is written using [Markdown](http://daringfireball.net/projects/markdown/syntax), which is a way to format text using headers, links, italics, and many other options! Whether you're editing a Markdown text block or a code block (like the one below), you can use the keyboard shortcut **Shift + Enter** or **Shift + Return** to execute the code or text block. In this case, it will show the formatted text.\n",
    "\n",
    "Let's start by setting up some code we will need to get the rest of the project up and running. Use the keyboard shortcut mentioned above on the following code block to execute it. Alternatively, depending on your iPython Notebook program, you can press the **Play** button in the hotbar. You'll know the code block executes successfully if the message *\"Boston Housing dataset loaded successfully!\"* is printed."
   ]
  },
  {
   "cell_type": "code",
   "execution_count": 78,
   "metadata": {
    "collapsed": false
   },
   "outputs": [
    {
     "name": "stdout",
     "output_type": "stream",
     "text": [
      "[  3  11  11   0   0   6  68   3   9 408  18 356  12]\n",
      "Boston Housing dataset loaded successfully!\n"
     ]
    }
   ],
   "source": [
    "# Importing a few necessary libraries\n",
    "import numpy as np\n",
    "import matplotlib.pyplot as pl\n",
    "from sklearn import datasets\n",
    "from sklearn.tree import DecisionTreeRegressor\n",
    "\n",
    "# Make matplotlib show our plots inline (nicely formatted in the notebook)\n",
    "%matplotlib inline\n",
    "\n",
    "# Create our client's feature set for which we will be predicting a selling price\n",
    "CLIENT_FEATURES = [[11.95, 0.00, 18.100, 0, 0.6590, 5.6090, 90.00, 1.385, 24, 680.0, 20.20, 332.09, 12.13]]\n",
    "\n",
    "\n",
    "# Load the Boston Housing dataset into the city_data variable\n",
    "city_data = datasets.load_boston()\n",
    "\n",
    "# Initialize the housing prices and housing features\n",
    "housing_prices = city_data.target\n",
    "housing_features = city_data.data\n",
    "\n",
    "\n",
    "meanss = np.mean(housing_features, axis = 0)\n",
    "print meanss.astype(int)\n",
    "\n",
    "    \n",
    "print \"Boston Housing dataset loaded successfully!\""
   ]
  },
  {
   "cell_type": "markdown",
   "metadata": {},
   "source": [
    "# Statistical Analysis and Data Exploration\n",
    "In this first section of the project, you will quickly investigate a few basic statistics about the dataset you are working with. In addition, you'll look at the client's feature set in `CLIENT_FEATURES` and see how this particular sample relates to the features of the dataset. Familiarizing yourself with the data through an explorative process is a fundamental practice to help you better understand your results."
   ]
  },
  {
   "cell_type": "markdown",
   "metadata": {},
   "source": [
    "## Step 1\n",
    "In the code block below, use the imported `numpy` library to calculate the requested statistics. You will need to replace each `None` you find with the appropriate `numpy` coding for the proper statistic to be printed. Be sure to execute the code block each time to test if your implementation is working successfully. The print statements will show the statistics you calculate!"
   ]
  },
  {
   "cell_type": "code",
   "execution_count": 79,
   "metadata": {
    "collapsed": false
   },
   "outputs": [
    {
     "name": "stdout",
     "output_type": "stream",
     "text": [
      "Boston Housing dataset statistics (in $1000's):\n",
      "\n",
      "Total number of houses: 506\n",
      "Total number of features: 13\n",
      "Minimum house price: 5.0\n",
      "Maximum house price: 50.0\n",
      "Mean house price: 22.533\n",
      "Median house price: 21.2\n",
      "Standard deviation of house price: 9.188\n"
     ]
    }
   ],
   "source": [
    "# Number of houses in the dataset\n",
    "total_houses   = np.count_nonzero(housing_prices)\n",
    "\n",
    "# Number of features in the dataset\n",
    "total_features = city_data.data.shape[1]\n",
    "\n",
    "# Minimum housing value in the dataset\n",
    "minimum_price  = np.amin(city_data.target)\n",
    "\n",
    "# Maximum housing value in the dataset\n",
    "maximum_price  = np.amax(city_data.target)\n",
    "\n",
    "# Mean house value of the dataset\n",
    "mean_price     = np.average(city_data.target)\n",
    "\n",
    "# Median house value of the dataset\n",
    "median_price   = np.median(city_data.target)\n",
    "\n",
    "# Standard deviation of housing values of the dataset\n",
    "std_dev        = np.std(city_data.target)\n",
    "\n",
    "# Show the calculated statistics\n",
    "print \"Boston Housing dataset statistics (in $1000's):\\n\"\n",
    "print \"Total number of houses:\", total_houses\n",
    "print \"Total number of features:\", total_features\n",
    "print \"Minimum house price:\", minimum_price\n",
    "print \"Maximum house price:\", maximum_price\n",
    "print \"Mean house price: {0:.3f}\".format(mean_price)\n",
    "print \"Median house price:\", median_price\n",
    "print \"Standard deviation of house price: {0:.3f}\".format(std_dev)"
   ]
  },
  {
   "cell_type": "markdown",
   "metadata": {},
   "source": [
    "## Question 1\n",
    "As a reminder, you can view a description of the Boston Housing dataset [here](https://archive.ics.uci.edu/ml/datasets/Housing), where you can find the different features under **Attribute Information**. The `MEDV` attribute relates to the values stored in our `housing_prices` variable, so we do not consider that a feature of the data.\n",
    "\n",
    "*Of the features available for each data point, choose three that you feel are significant and give a brief description for each of what they measure.*\n",
    "\n",
    "Remember, you can **double click the text box below** to add your answer!"
   ]
  },
  {
   "cell_type": "markdown",
   "metadata": {},
   "source": [
    "**Answer: **\n",
    "1. CRIM (crime rate by town)\n",
    "2. DIS (distance to employment centers within Boston)\n",
    "3. inverse.B (proportion of blacks by town)\n"
   ]
  },
  {
   "cell_type": "markdown",
   "metadata": {},
   "source": [
    "## Question 2\n",
    "*Using your client's feature set `CLIENT_FEATURES`, which values correspond with the features you've chosen above?*  \n",
    "**Hint: ** Run the code block below to see the client's data."
   ]
  },
  {
   "cell_type": "code",
   "execution_count": 3,
   "metadata": {
    "collapsed": false
   },
   "outputs": [
    {
     "name": "stdout",
     "output_type": "stream",
     "text": [
      "[[11.95, 0.0, 18.1, 0, 0.659, 5.609, 90.0, 1.385, 24, 680.0, 20.2, 332.09, 12.13]]\n"
     ]
    }
   ],
   "source": [
    "print CLIENT_FEATURES"
   ]
  },
  {
   "cell_type": "markdown",
   "metadata": {},
   "source": [
    "**Answer: **\n",
    "[[**11.95**, 0.0, 18.1, 0, 0.659, 5.609, 90.0, **1.385**, 24, 680.0, 20.2, **332.09**, 12.13]]"
   ]
  },
  {
   "cell_type": "markdown",
   "metadata": {},
   "source": [
    "# Evaluating Model Performance\n",
    "In this second section of the project, you will begin to develop the tools necessary for a model to make a prediction. Being able to accurately evaluate each model's performance through the use of these tools helps to greatly reinforce the confidence in your predictions."
   ]
  },
  {
   "cell_type": "markdown",
   "metadata": {},
   "source": [
    "## Step 2\n",
    "In the code block below, you will need to implement code so that the `shuffle_split_data` function does the following:\n",
    "- Randomly shuffle the input data `X` and target labels (housing values) `y`.\n",
    "- Split the data into training and testing subsets, holding 30% of the data for testing.\n",
    "\n",
    "If you use any functions not already acessible from the imported libraries above, remember to include your import statement below as well!   \n",
    "Ensure that you have executed the code block once you are done. You'll know the `shuffle_split_data` function is working if the statement *\"Successfully shuffled and split the data!\"* is printed."
   ]
  },
  {
   "cell_type": "code",
   "execution_count": 87,
   "metadata": {
    "collapsed": false
   },
   "outputs": [
    {
     "name": "stdout",
     "output_type": "stream",
     "text": [
      "Successfully shuffled and split the data!\n"
     ]
    }
   ],
   "source": [
    "# Put any import statements you need for this code block here\n",
    "import sklearn.metrics as sk\n",
    "\n",
    "\n",
    "def shuffle_split_data(X, y):\n",
    "    \"\"\" Shuffles and splits data into 70% training and 30% testing subsets,\n",
    "        then returns the training and testing subsets. \"\"\"\n",
    "\n",
    "    # Shuffle and split the data\n",
    "\n",
    "    X_train, X_test, y_train, y_test = cv.train_test_split(X, y, test_size=0.30, random_state=1)\n",
    "\n",
    "    # Return the training and testing data subsets\n",
    "    return X_train, y_train, X_test, y_test\n",
    "\n",
    "\n",
    "# Test shuffle_split_data\n",
    "try:\n",
    "    X_train, y_train, X_test, y_test = shuffle_split_data(housing_features, housing_prices)\n",
    "    print \"Successfully shuffled and split the data!\"\n",
    "except:\n",
    "    print \"Something went wrong with shuffling and splitting the data.\""
   ]
  },
  {
   "cell_type": "markdown",
   "metadata": {},
   "source": [
    "## Question 3\n",
    "*Why do we split the data into training and testing subsets for our model?*"
   ]
  },
  {
   "cell_type": "markdown",
   "metadata": {},
   "source": [
    "**Answer: **\n",
    "\n",
    "While our goal is to train a model on the dataset features, we don't want to use 100% of it, which could lead to overfitting and will not leave us an independent set of data to test our model upon. So we can do normal splits ranging from 60/40 for smaller sets, to around 80 or higher for larger ones. \n",
    "\n",
    "There are also other methods that can be used such as: Cross-validation, k-fold, leave-one-out."
   ]
  },
  {
   "cell_type": "markdown",
   "metadata": {},
   "source": [
    "## Step 3\n",
    "In the code block below, you will need to implement code so that the `performance_metric` function does the following:\n",
    "- Perform a total error calculation between the true values of the `y` labels `y_true` and the predicted values of the `y` labels `y_predict`.\n",
    "\n",
    "You will need to first choose an appropriate performance metric for this problem. See [the sklearn metrics documentation](http://scikit-learn.org/stable/modules/classes.html#sklearn-metrics-metrics) to view a list of available metric functions. **Hint: ** Look at the question below to see a list of the metrics that were covered in the supporting course for this project.\n",
    "\n",
    "Once you have determined which metric you will use, remember to include the necessary import statement as well!  \n",
    "Ensure that you have executed the code block once you are done. You'll know the `performance_metric` function is working if the statement *\"Successfully performed a metric calculation!\"* is printed."
   ]
  },
  {
   "cell_type": "code",
   "execution_count": 88,
   "metadata": {
    "collapsed": false
   },
   "outputs": [
    {
     "name": "stdout",
     "output_type": "stream",
     "text": [
      "0.0\n",
      "Successfully performed a metric calculation!\n"
     ]
    }
   ],
   "source": [
    "# Put any import statements you need for this code block here\n",
    "import sklearn.metrics as sk\n",
    "\n",
    "\n",
    "def performance_metric(y_true, y_predict):\n",
    "    \"\"\" Calculates and returns the total error between true and predicted values\n",
    "        based on a performance metric chosen by the student. \"\"\"\n",
    "\n",
    "    error = sk.mean_squared_error(y_true, y_predict)\n",
    "    print error\n",
    "    return error\n",
    "\n",
    "\n",
    "# Test performance_metric\n",
    "try:\n",
    "    total_error = performance_metric(y_train, y_train)\n",
    "    print \"Successfully performed a metric calculation!\"\n",
    "except:\n",
    "    print \"Something went wrong with performing a metric calculation.\""
   ]
  },
  {
   "cell_type": "markdown",
   "metadata": {},
   "source": [
    "## Question 4\n",
    "*Which performance metric below did you find was most appropriate for predicting housing prices and analyzing the total error. Why?*\n",
    "- *Accuracy*\n",
    "- *Precision*\n",
    "- *Recall*\n",
    "- *F1 Score*\n",
    "- *Mean Squared Error (MSE)*\n",
    "- *Mean Absolute Error (MAE)*"
   ]
  },
  {
   "cell_type": "markdown",
   "metadata": {},
   "source": [
    "**Answer: **\n",
    "\n",
    "*Mean Squared Error (MSE)* is the standard for measuring models such as these and is what I plan on using. If the pricing were categorical and placed the prices in a set amount of buckets, the first 4 *Accuracy, Precision, Recall, *and* F1 Score* could work, but I doubt I will get any spot-on correct predictions of the price with those metrics, as it will be hard to guess the price precisely. \n",
    "\n",
    "So something that measures *how close* I get to the correct price would be best here, and I will chose MSE over MAE as I would like to punish more extreme differences from the true value from what the model predicted."
   ]
  },
  {
   "cell_type": "markdown",
   "metadata": {},
   "source": [
    "## Step 4 (Final Step)\n",
    "In the code block below, you will need to implement code so that the `fit_model` function does the following:\n",
    "- Create a scoring function using the same performance metric as in **Step 2**. See the [sklearn `make_scorer` documentation](http://scikit-learn.org/stable/modules/generated/sklearn.metrics.make_scorer.html).\n",
    "- Build a GridSearchCV object using `regressor`, `parameters`, and `scoring_function`. See the [sklearn documentation on GridSearchCV](http://scikit-learn.org/stable/modules/generated/sklearn.grid_search.GridSearchCV.html).\n",
    "\n",
    "When building the scoring function and GridSearchCV object, *be sure that you read the parameters documentation thoroughly.* It is not always the case that a default parameter for a function is the appropriate setting for the problem you are working on.\n",
    "\n",
    "Since you are using `sklearn` functions, remember to include the necessary import statements below as well!  \n",
    "Ensure that you have executed the code block once you are done. You'll know the `fit_model` function is working if the statement *\"Successfully fit a model to the data!\"* is printed."
   ]
  },
  {
   "cell_type": "code",
   "execution_count": 89,
   "metadata": {
    "collapsed": false
   },
   "outputs": [
    {
     "name": "stdout",
     "output_type": "stream",
     "text": [
      "Successfully fit a model!\n"
     ]
    }
   ],
   "source": [
    "# Put any import statements you need for this code block\n",
    "from sklearn import grid_search as gs\n",
    "from sklearn import metrics as m\n",
    "\n",
    "\n",
    "def fit_model(X, y):\n",
    "    \"\"\" Tunes a decision tree regressor model using GridSearchCV on the input data X \n",
    "        and target labels y and returns this optimal model. \"\"\"\n",
    "\n",
    "    # Create a decision tree regressor object\n",
    "    regressor = DecisionTreeRegressor()\n",
    "\n",
    "    # Set up the parameters we wish to tune\n",
    "    parameters = {'max_depth':(1,2,3,4,5,6,7,8,9,10)}\n",
    "\n",
    "    # Make an appropriate scoring function\n",
    "    scoring_function = m.make_scorer(m.mean_squared_error, greater_is_better = False)\n",
    "\n",
    "    # Make the GridSearchCV object\n",
    "    reg = gs.GridSearchCV(regressor,parameters, scoring=scoring_function)\n",
    "\n",
    "    # Fit the learner to the data to obtain the optimal model with tuned parameters\n",
    "    reg.fit(X, y)\n",
    "\n",
    "    # Return the optimal model\n",
    "    return reg.best_estimator_\n",
    "\n",
    "\n",
    "# Test fit_model on entire dataset\n",
    "try:\n",
    "    reg = fit_model(housing_features, housing_prices)\n",
    "    print \"Successfully fit a model!\"\n",
    "except:\n",
    "    print \"Something went wrong with fitting a model.\""
   ]
  },
  {
   "cell_type": "markdown",
   "metadata": {},
   "source": [
    "## Question 5\n",
    "*What is the grid search algorithm and when is it applicable?*"
   ]
  },
  {
   "cell_type": "markdown",
   "metadata": {},
   "source": [
    "**Answer: **\n",
    "\n",
    "A *Grid Search* is a method of parameter runing for a learning algorithm. It is simple in that it just goes through various manually input parameter options and finds the most ideal set of parameter inputs for the model. \n",
    "\n",
    "It can be used when a model is being created for the first time or you are unsure of the parameters to choose, and instead let the computer do the work for you."
   ]
  },
  {
   "cell_type": "markdown",
   "metadata": {},
   "source": [
    "## Question 6\n",
    "*What is cross-validation, and how is it performed on a model? Why would cross-validation be helpful when using grid search?*"
   ]
  },
  {
   "cell_type": "markdown",
   "metadata": {},
   "source": [
    "**Answer: **\n",
    "\n",
    "*Cross-Validation* is a method of sampling the original training data where you can create multiple new combinations of said training/testing data. It can help avoid issues over over-fitting by helping the model generalize on more combinations of data. \n",
    "\n",
    "When using optimizing parameters during an application of grid search, the model can tend begin to overfit on the training data, as information can leak back if there is only one static division of training/validation. So cross-validation is useful when grid search is being used to run multiple model fittings, though it can become computationally expensive on larger data sets or when training many parameters.\n",
    "\n"
   ]
  },
  {
   "cell_type": "markdown",
   "metadata": {},
   "source": [
    "# Checkpoint!\n",
    "You have now successfully completed your last code implementation section. Pat yourself on the back! All of your functions written above will be executed in the remaining sections below, and questions will be asked about various results for you to analyze. To prepare the **Analysis** and **Prediction** sections, you will need to intialize the two functions below. Remember, there's no need to implement any more code, so sit back and execute the code blocks! Some code comments are provided if you find yourself interested in the functionality."
   ]
  },
  {
   "cell_type": "markdown",
   "metadata": {},
   "source": [
    "# Analyzing Model Performance\n",
    "In this third section of the project, you'll take a look at several models' learning and testing error rates on various subsets of training data. Additionally, you'll investigate one particular algorithm with an increasing `max_depth` parameter on the full training set to observe how model complexity affects learning and testing errors. Graphing your model's performance based on varying criteria can be beneficial in the analysis process, such as visualizing behavior that may not have been apparent from the results alone."
   ]
  },
  {
   "cell_type": "code",
   "execution_count": 96,
   "metadata": {
    "collapsed": false
   },
   "outputs": [
    {
     "name": "stdout",
     "output_type": "stream",
     "text": [
      "Creating learning curve graphs for max_depths of 1, 3, 6, and 10. . .\n",
      "0.0\n",
      "98.3224342105\n",
      "8.03729166667\n",
      "84.7365497076\n",
      "21.8544761905\n",
      "70.7667991407\n",
      "23.1092339545\n",
      "61.1647255042\n",
      "22.6923214286\n",
      "72.2093682029\n",
      "28.4026718147\n",
      "72.1955344791\n",
      "28.2421861472\n",
      "72.5744462346\n",
      "44.6502208014\n",
      "63.3395175803\n",
      "40.5614915254\n",
      "63.259452924\n",
      "39.2708912072\n",
      "57.7902117413\n",
      "35.883516116\n",
      "57.7762710498\n",
      "38.3001368243\n",
      "57.7035356075\n",
      "37.9522341045\n",
      "57.7507873792\n",
      "38.463155418\n",
      "57.719004389\n",
      "40.2347602827\n",
      "60.748646112\n",
      "41.9236826629\n",
      "60.7703621456\n",
      "42.9111832252\n",
      "60.6826006721\n",
      "43.8054770249\n",
      "60.7831630425\n",
      "43.1595830153\n",
      "60.8720775391\n",
      "43.0599659974\n",
      "53.1418584726\n",
      "43.4140491641\n",
      "53.1057795338\n",
      "43.4483012342\n",
      "53.1070069404\n",
      "42.6289119167\n",
      "53.1125756047\n",
      "41.3856158326\n",
      "53.1541356251\n",
      "40.4582730389\n",
      "53.1481182331\n",
      "40.0343493947\n",
      "53.1558947019\n",
      "40.3570943276\n",
      "53.235242432\n",
      "39.5149471983\n",
      "53.2333562489\n",
      "39.5835361386\n",
      "53.1771623394\n",
      "41.3269090732\n",
      "53.1803770546\n",
      "40.9301296962\n",
      "53.1292070883\n",
      "40.0715566388\n",
      "53.1591725519\n",
      "39.5024007757\n",
      "53.1584572394\n",
      "39.8995693132\n",
      "53.2390284667\n",
      "41.4494614244\n",
      "56.3215869365\n",
      "42.4568140801\n",
      "53.1363012498\n",
      "42.6158107737\n",
      "53.1407116045\n",
      "43.603990571\n",
      "61.3851039297\n",
      "43.9062506887\n",
      "61.5535811162\n",
      "43.5387623694\n",
      "61.6326675225\n",
      "45.9954481628\n",
      "53.2497946861\n",
      "46.2489900056\n",
      "54.298310604\n",
      "46.1315919384\n",
      "54.2687661071\n",
      "45.6047181481\n",
      "54.2967786594\n",
      "45.4273819329\n",
      "54.2445341495\n",
      "45.0757477846\n",
      "54.2064264255\n",
      "44.7618472132\n",
      "54.1817392761\n",
      "44.1806192316\n",
      "54.1813454764\n",
      "43.7395408424\n",
      "54.158010876\n",
      "44.6808032477\n",
      "54.1464733818\n",
      "0.0\n",
      "98.3224342105\n",
      "0.0408333333333\n",
      "73.1177339181\n",
      "3.92893333333\n",
      "53.3334151316\n",
      "3.04708074534\n",
      "36.9376597744\n",
      "5.41435858586\n",
      "51.9305910858\n",
      "6.7191722973\n",
      "46.7266491057\n",
      "6.51004786574\n",
      "35.7275264831\n",
      "13.6877615025\n",
      "53.8197724131\n",
      "13.7464381759\n",
      "52.8718399467\n",
      "13.9670885616\n",
      "49.1969397666\n",
      "13.0815586653\n",
      "50.8334470821\n",
      "11.8691444619\n",
      "34.4504418222\n",
      "12.0661845592\n",
      "55.2586898249\n",
      "12.1875604056\n",
      "31.1439561384\n",
      "11.6109034462\n",
      "31.9459425408\n",
      "12.5039310713\n",
      "32.3860441175\n",
      "12.7122574507\n",
      "32.2008521143\n",
      "12.8821424261\n",
      "32.1125912577\n",
      "12.8089975446\n",
      "32.229188181\n",
      "13.5322835184\n",
      "20.60487324\n",
      "13.7745841406\n",
      "20.3456602448\n",
      "13.8868690798\n",
      "30.6148372348\n",
      "13.6064269329\n",
      "31.9208040055\n",
      "13.5646338121\n",
      "31.8375280151\n",
      "13.894445682\n",
      "32.8530723083\n",
      "13.7359754059\n",
      "31.5642190526\n",
      "14.9550107394\n",
      "17.5086153726\n",
      "14.5396325714\n",
      "22.5819009897\n",
      "14.6305643324\n",
      "25.3049745528\n",
      "13.8556368775\n",
      "30.5339075705\n",
      "13.8225033561\n",
      "30.1822861116\n",
      "13.3452279804\n",
      "30.4653851761\n",
      "13.5883473774\n",
      "30.9861616826\n",
      "13.9898833943\n",
      "31.1383744437\n",
      "14.5982279202\n",
      "21.7764731065\n",
      "16.5294474737\n",
      "34.0557909535\n",
      "16.8083988203\n",
      "33.490565682\n",
      "15.4298847992\n",
      "28.0459242963\n",
      "15.3837370723\n",
      "28.0346409386\n",
      "15.7292320446\n",
      "28.3684674445\n",
      "17.1916893553\n",
      "31.3718417546\n",
      "16.4855634005\n",
      "20.3306116827\n",
      "16.3913024833\n",
      "20.3691110774\n",
      "16.3852216826\n",
      "20.4160943402\n",
      "16.3346453093\n",
      "24.9118219613\n",
      "16.3113045147\n",
      "19.8118135607\n",
      "16.3626727765\n",
      "18.465570053\n",
      "16.4829684442\n",
      "18.5342407562\n",
      "16.3198363958\n",
      "18.4278005684\n",
      "16.2582331003\n",
      "17.7389846107\n",
      "0.0\n",
      "98.3224342105\n",
      "0.0\n",
      "73.4365789474\n",
      "0.195666666667\n",
      "51.1363815789\n",
      "0.0428260869565\n",
      "34.6386513158\n",
      "0.196166666667\n",
      "58.9727631579\n",
      "0.148423423423\n",
      "49.6139336257\n",
      "0.270691287879\n",
      "41.7395343339\n",
      "1.29988795518\n",
      "36.4635939999\n",
      "1.46389612224\n",
      "36.3611178562\n",
      "2.27667846043\n",
      "50.6183267947\n",
      "2.06449543379\n",
      "38.5929343933\n",
      "1.92385885989\n",
      "46.4108820604\n",
      "1.66134619595\n",
      "40.6412258556\n",
      "1.41869014202\n",
      "36.7485089007\n",
      "1.57256325864\n",
      "54.1476883119\n",
      "1.65615820724\n",
      "28.2877516299\n",
      "1.8703640952\n",
      "31.5777018849\n",
      "2.00993407293\n",
      "27.9925572803\n",
      "2.272193135\n",
      "28.8877450197\n",
      "1.96465145503\n",
      "28.6839710737\n",
      "2.38016399463\n",
      "19.710196633\n",
      "2.20798149256\n",
      "15.1775512511\n",
      "2.35001996682\n",
      "19.7134240222\n",
      "1.91358477281\n",
      "21.0626740839\n",
      "2.13292091873\n",
      "19.5286818698\n",
      "2.11802174268\n",
      "16.4552711751\n",
      "2.25318927196\n",
      "15.9705891621\n",
      "2.77362099352\n",
      "14.5276538216\n",
      "2.80872589473\n",
      "18.0520511087\n",
      "2.25119066952\n",
      "29.2639524494\n",
      "2.58237463059\n",
      "41.4007579295\n",
      "2.3840490892\n",
      "30.4777227434\n",
      "2.50914761554\n",
      "36.017752751\n",
      "2.83779570347\n",
      "36.5887110705\n",
      "3.43780105213\n",
      "14.0629954921\n",
      "2.89123768693\n",
      "38.6113112459\n",
      "3.3488545263\n",
      "38.0962057852\n",
      "4.4265031763\n",
      "17.7095601311\n",
      "4.35180409384\n",
      "16.414242991\n",
      "4.85812521382\n",
      "16.0735313601\n",
      "3.9023296193\n",
      "16.0103239327\n",
      "3.97308641554\n",
      "14.3682154434\n",
      "3.90460727621\n",
      "14.593935345\n",
      "3.92033350785\n",
      "26.7810172083\n",
      "4.26613575608\n",
      "18.4988458884\n",
      "4.16392459984\n",
      "25.7485073894\n",
      "4.47275252777\n",
      "25.3712285928\n",
      "4.52712812522\n",
      "14.176788354\n",
      "4.50496606448\n",
      "19.6627941344\n",
      "4.17594595812\n",
      "13.9567016323\n",
      "0.0\n",
      "98.3224342105\n",
      "0.0\n",
      "77.1161184211\n",
      "0.0\n",
      "54.5649342105\n",
      "0.0\n",
      "40.5038157895\n",
      "0.000166666666667\n",
      "60.7262171053\n",
      "0.0\n",
      "50.9192763158\n",
      "0.0\n",
      "36.0571052632\n",
      "0.00254901960784\n",
      "39.2589473684\n",
      "0.00135593220339\n",
      "41.1259210526\n",
      "0.11253030303\n",
      "45.4340796053\n",
      "0.00414383561644\n",
      "40.0205715461\n",
      "0.00640625\n",
      "44.5910320724\n",
      "0.000229885057471\n",
      "54.6263157895\n",
      "0.000105263157895\n",
      "36.7840625\n",
      "0.00625816993464\n",
      "41.1176626462\n",
      "0.00100917431193\n",
      "34.6343585526\n",
      "0.00113505747126\n",
      "46.643309576\n",
      "0.00172086720867\n",
      "26.8683972953\n",
      "0.00284987277354\n",
      "38.4357182018\n",
      "0.089568236715\n",
      "18.5346776773\n",
      "0.0479574712644\n",
      "18.4277019189\n",
      "0.0524013157895\n",
      "21.8231743421\n",
      "0.0634538784067\n",
      "25.9504162098\n",
      "0.0291846307385\n",
      "20.3222360197\n",
      "0.054263136289\n",
      "15.4500408316\n",
      "0.0815290055249\n",
      "20.6036548337\n",
      "0.0346564716312\n",
      "19.4600829221\n",
      "0.0513183309038\n",
      "16.7602785353\n",
      "0.0635282078349\n",
      "21.1769573137\n",
      "0.207280952381\n",
      "33.4176820724\n",
      "0.209704465657\n",
      "28.4221390949\n",
      "0.275218501984\n",
      "35.2761118056\n",
      "0.18351927682\n",
      "40.6754229486\n",
      "0.244837752903\n",
      "29.2765277904\n",
      "0.736501244164\n",
      "15.6426605527\n",
      "0.167498023715\n",
      "45.9681432931\n",
      "0.173339194139\n",
      "40.8379508943\n",
      "0.439834355882\n",
      "20.2982025158\n",
      "0.302364688057\n",
      "19.3338891742\n",
      "0.527624605989\n",
      "20.9213660849\n",
      "0.253293266326\n",
      "15.5491323332\n",
      "0.494475349602\n",
      "17.484392601\n",
      "0.494324773881\n",
      "20.5717323737\n",
      "0.539951862507\n",
      "17.7923470694\n",
      "0.488588172021\n",
      "13.9369129102\n",
      "0.57586548816\n",
      "14.9661182383\n",
      "0.658826944683\n",
      "26.7743720444\n",
      "0.688857930505\n",
      "20.7016589902\n",
      "0.622001952418\n",
      "17.6964135428\n",
      "0.256793181708\n",
      "25.2159837721\n"
     ]
    },
    {
     "data": {
      "image/png": "[encoded data removed]",
      "text/plain": [
       "<matplotlib.figure.Figure at 0x8ff30f0>"
      ]
     },
     "metadata": {},
     "output_type": "display_data"
    }
   ],
   "source": [
    "learning_curves(X_train, y_train, X_test, y_test)"
   ]
  },
  {
   "cell_type": "code",
   "execution_count": 92,
   "metadata": {
    "collapsed": false
   },
   "outputs": [
    {
     "name": "stdout",
     "output_type": "stream",
     "text": [
      "70.2535487766\n",
      "69.650669914\n"
     ]
    }
   ],
   "source": [
    "print np.mean(X_train)\n",
    "print np.mean(X_test)"
   ]
  },
  {
   "cell_type": "markdown",
   "metadata": {},
   "source": [
    "## Question 7\n",
    "*Choose one of the learning curve graphs that are created above. What is the max depth for the chosen model? As the size of the training set increases, what happens to the training error? What happens to the testing error?*"
   ]
  },
  {
   "cell_type": "markdown",
   "metadata": {},
   "source": [
    "**Answer: **\n",
    "\n",
    "In the graph on the bottom-right, with *max_depth = 10*, you can see the training model becoming very effecient **on the training data** but over-fitting and creating more error on the testing set. \n",
    "\n",
    "You can see the error begin decreasing significantly in the beginning, but it quickly gets to a point where there seems to be no advantage gained by adding more training data. Around a training size of 150 seems to be a good compromise of performance and simplicity of the model.\n"
   ]
  },
  {
   "cell_type": "markdown",
   "metadata": {},
   "source": [
    "## Question 8\n",
    "*Look at the learning curve graphs for the model with a max depth of 1 and a max depth of 10. When the model is using the full training set, does it suffer from high bias or high variance when the max depth is 1? What about when the max depth is 10?*"
   ]
  },
  {
   "cell_type": "markdown",
   "metadata": {},
   "source": [
    "**Answer: **\n",
    "\n",
    "Starting at *max_depth = 1*, it is a very generalized model, with a high bias with a high error, but it is fairly steady and consistent with the training and test datasets.\n",
    "\n",
    "Then when you look at *max_depth = 10* there seems to be no advantage to this model over some of the others with less depth. It will have more variance as it tries to overfit on the training data, and the scoring error will eventually begin to go back up with more data being introduced."
   ]
  },
  {
   "cell_type": "code",
   "execution_count": 93,
   "metadata": {
    "collapsed": false
   },
   "outputs": [
    {
     "name": "stdout",
     "output_type": "stream",
     "text": [
      "Creating a model complexity graph. . . \n",
      "44.6808032477\n",
      "54.1464733818\n",
      "26.3461372216\n",
      "25.6217609916\n",
      "16.2582331003\n",
      "17.7389846107\n",
      "9.2767538123\n",
      "12.4018317397\n",
      "6.29491207432\n",
      "12.5828713978\n",
      "4.17594595812\n",
      "26.2970092964\n",
      "2.26401885362\n",
      "18.4153406758\n",
      "1.16828332015\n",
      "17.9257211597\n",
      "0.533463238033\n",
      "17.5869859709\n",
      "0.256793181708\n",
      "29.4054732437\n",
      "0.119861803059\n",
      "13.5367634128\n",
      "0.0359806967985\n",
      "11.7056836806\n",
      "0.00532519504977\n",
      "20.2893079425\n"
     ]
    },
    {
     "data": {
      "image/png": "[encoded data removed]",
      "text/plain": [
       "<matplotlib.figure.Figure at 0x80b5518>"
      ]
     },
     "metadata": {},
     "output_type": "display_data"
    }
   ],
   "source": [
    "model_complexity(X_train, y_train, X_test, y_test)"
   ]
  },
  {
   "cell_type": "markdown",
   "metadata": {},
   "source": [
    "## Question 9\n",
    "*From the model complexity graph above, describe the training and testing errors as the max depth increases. Based on your interpretation of the graph, which max depth results in a model that best generalizes the dataset? Why?*"
   ]
  },
  {
   "cell_type": "markdown",
   "metadata": {},
   "source": [
    "**Answer: **\n",
    "\n",
    "\n",
    "The *Training Error* seems to have a very smooth exponential curve that converges close to 0 training error, while the *Testing Error* seems to settle once you reach around *max_depth = 4*. Though *max_depth = 8-10* do seem to be slightly better in error rates, it is not by much and the added complexity and computation does not seem to be worth it.\n",
    "\n",
    "If it is much more computationally expensive to reach higher depths, then it may be more effecient to train your model on as low a depth as possible, while still retaining almost the lowest error. This can become especially important as we get more data to train on and it becomes harder to compute."
   ]
  },
  {
   "cell_type": "markdown",
   "metadata": {},
   "source": [
    "# Model Prediction\n",
    "In this final section of the project, you will make a prediction on the client's feature set using an optimized model from `fit_model`. When applying grid search along with cross-validation to optimize your model, it would typically be performed and validated on a training set and subsequently evaluated on a **dedicated test set**. In this project, the optimization below is performed on the *entire dataset* (as opposed to the training set you made above) due to the many outliers in the data. Using the entire dataset for training provides for a less volatile prediction at the expense of not testing your model's performance. \n",
    "\n",
    "*To answer the following questions, it is recommended that you run the code blocks several times and use the median or mean value of the results.*"
   ]
  },
  {
   "cell_type": "markdown",
   "metadata": {},
   "source": [
    "## Question 10\n",
    "*Using grid search on the entire dataset, what is the optimal `max_depth` parameter for your model? How does this result compare to your intial intuition?*  \n",
    "**Hint: ** Run the code block below to see the max depth produced by your optimized model."
   ]
  },
  {
   "cell_type": "code",
   "execution_count": 94,
   "metadata": {
    "collapsed": false
   },
   "outputs": [
    {
     "name": "stdout",
     "output_type": "stream",
     "text": [
      "Final model has an optimal max_depth parameter of 6\n"
     ]
    }
   ],
   "source": [
    "x = []\n",
    "for i in range(1000):\n",
    "    x.append(reg.get_params()['max_depth'])\n",
    "    \n",
    "print \"Final model has an optimal max_depth parameter of\", int(np.mean(x))"
   ]
  },
  {
   "cell_type": "markdown",
   "metadata": {},
   "source": [
    "**Answer: **\n",
    "\n",
    "\n",
    "It is mostly the same opinion I came to above, though I did see slightly less testing error with a *max_depth = 6-8*. I actually thought that with more data the ideal *max_depth* would actually have gone up."
   ]
  },
  {
   "cell_type": "markdown",
   "metadata": {},
   "source": [
    "## Question 11\n",
    "*With your parameter-tuned model, what is the best selling price for your client's home? How does this selling price compare to the basic statistics you calculated on the dataset?*  \n",
    "\n",
    "**Hint: ** Run the code block below to have your parameter-tuned model make a prediction on the client's home."
   ]
  },
  {
   "cell_type": "code",
   "execution_count": 95,
   "metadata": {
    "collapsed": false
   },
   "outputs": [
    {
     "name": "stdout",
     "output_type": "stream",
     "text": [
      "Predicted value of client's home: 20.766\n"
     ]
    }
   ],
   "source": [
    "sale_price = reg.predict(CLIENT_FEATURES)\n",
    "print \"Predicted value of client's home: {0:.3f}\".format(sale_price[0])"
   ]
  },
  {
   "cell_type": "markdown",
   "metadata": {},
   "source": [
    "**Answer: **\n",
    "\n",
    "The predicted price is 21.630, which seems to be just below both the average selling price and median."
   ]
  },
  {
   "cell_type": "markdown",
   "metadata": {},
   "source": [
    "## Question 12 (Final Question):\n",
    "*In a few sentences, discuss whether you would use this model or not to predict the selling price of future clients' homes in the Greater Boston area.*"
   ]
  },
  {
   "cell_type": "markdown",
   "metadata": {},
   "source": [
    "**Answer: **\n",
    "\n",
    "Without comparing my model to other methods, it is hard to quantify how this performs relative to something else, or say whether it is *good* or *bad*. But from eyeballing everything it does seem to line up with the mean of the features and subsequently the mean of the price of house.\n",
    "\n",
    "Columns: RM, AGE, TAX, PTRATIO, and B are all similar in values to the mean of our dataset. And that makes sense in that our modeled price is also similar to the calculated mean of our dataset.\n",
    "\n",
    "So from this point, I would use it up until the point I discover something better."
   ]
  }
 ],
 "metadata": {
  "kernelspec": {
   "display_name": "Python 2",
   "language": "python",
   "name": "python2"
  },
  "language_info": {
   "codemirror_mode": {
    "name": "ipython",
    "version": 2
   },
   "file_extension": ".py",
   "mimetype": "text/x-python",
   "name": "python",
   "nbconvert_exporter": "python",
   "pygments_lexer": "ipython2",
   "version": "2.7.11"
  }
 },
 "nbformat": 4,
 "nbformat_minor": 0
}
